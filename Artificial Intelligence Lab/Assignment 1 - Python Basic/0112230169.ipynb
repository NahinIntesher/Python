{
 "cells": [
  {
   "cell_type": "markdown",
   "metadata": {
    "id": "XWkeFnGKTtUu"
   },
   "source": [
    "# Assignment 1"
   ]
  },
  {
   "cell_type": "code",
   "execution_count": 1,
   "metadata": {
    "colab": {
     "base_uri": "https://localhost:8080/"
    },
    "executionInfo": {
     "elapsed": 10706,
     "status": "ok",
     "timestamp": 1732239289657,
     "user": {
      "displayName": "Nahin Intesher",
      "userId": "07312197565778579316"
     },
     "user_tz": -360
    },
    "id": "GMpf7YebTBwv",
    "outputId": "bc93112c-3c1a-456e-d68e-f773e48a7e16"
   },
   "outputs": [
    {
     "name": "stdout",
     "output_type": "stream",
     "text": [
      "No digits found in the input.\n"
     ]
    }
   ],
   "source": [
    "# Problem 1\n",
    "# take an input from keyboard.\n",
    "# extract the digits from the string.\n",
    "# For example, if the input is \"212hello344world\" (which is a string) output is 212344 (which is an integer)\n",
    "\n",
    "# Solution:\n",
    "# ---------------------------------\n",
    "str = input(\"Enter a string with digits: \")\n",
    "digits = ''.join(char for char in str if char.isdigit())\n",
    "if digits:\n",
    "    result = int(digits)\n",
    "    print(\"Output:\", result)\n",
    "else:\n",
    "    print(\"No digits found in the input.\")\n"
   ]
  },
  {
   "cell_type": "code",
   "execution_count": 4,
   "metadata": {
    "colab": {
     "base_uri": "https://localhost:8080/"
    },
    "executionInfo": {
     "elapsed": 13242,
     "status": "ok",
     "timestamp": 1732239530567,
     "user": {
      "displayName": "Nahin Intesher",
      "userId": "07312197565778579316"
     },
     "user_tz": -360
    },
    "id": "cjij1mhTh446",
    "outputId": "c6b2f226-916d-49d9-df02-9b4417b0e22b"
   },
   "outputs": [
    {
     "name": "stdout",
     "output_type": "stream",
     "text": [
      "Enter a number: 4\n",
      "Output: 35\n"
     ]
    }
   ],
   "source": [
    "# Problem 2\n",
    "# take an input n from keyboard\n",
    "# now\n",
    "# if n is odd: derive the sum 1^2 + 3^2 + 5^2 + .... + n^2\n",
    "# if n is even: derive the sum 1^2 + 3^2 + 5^2 + ..... + (n+1)^2\n",
    "# if n is anything else: print \"ERROR\"\n",
    "\n",
    "# Solution:\n",
    "# ---------------------------------\n",
    "n = input(\"Enter a number: \")\n",
    "\n",
    "if n.isdigit():\n",
    "    n = int(n)\n",
    "    if n % 2 == 0:\n",
    "        n += 1\n",
    "    total = 0\n",
    "    for i in range(1, n + 1, 2):\n",
    "        total += i ** 2\n",
    "    print(\"Output:\", total)\n",
    "else:\n",
    "    print(\"ERROR\")\n"
   ]
  },
  {
   "cell_type": "code",
   "execution_count": 6,
   "metadata": {
    "colab": {
     "base_uri": "https://localhost:8080/"
    },
    "executionInfo": {
     "elapsed": 424,
     "status": "ok",
     "timestamp": 1732239631700,
     "user": {
      "displayName": "Nahin Intesher",
      "userId": "07312197565778579316"
     },
     "user_tz": -360
    },
    "id": "Aua11B1aiudR",
    "outputId": "7e6cc662-e0b0-4e00-ce33-229778b21f6a"
   },
   "outputs": [
    {
     "name": "stdout",
     "output_type": "stream",
     "text": [
      "Reversed list: [(2, 3), [1, 2], 3.4, 100, 'grape', 'apple']\n"
     ]
    }
   ],
   "source": [
    "# Problem 3\n",
    "# define a python function reverse(), which takes one parameter, a list\n",
    "# The function reverses the order of the elements of a list.\n",
    "# for example: if arr = ['apple', 'grape', 100, 3.4, [1, 2] , (2, 3)]\n",
    "# reverse(arr) will result in [(2, 3), [1, 2] ,3.4, 100, 'grape', 'apple']\n",
    "\n",
    "# Solution:\n",
    "# ---------------------------------\n",
    "def reverse(arr):\n",
    "    return arr[::-1]\n",
    "\n",
    "arr = ['apple', 'grape', 100, 3.4, [1, 2], (2, 3)]\n",
    "reversed_arr = reverse(arr)\n",
    "print(\"Reversed list:\", reversed_arr)\n"
   ]
  },
  {
   "cell_type": "code",
   "execution_count": 7,
   "metadata": {
    "colab": {
     "base_uri": "https://localhost:8080/"
    },
    "executionInfo": {
     "elapsed": 364,
     "status": "ok",
     "timestamp": 1732239700534,
     "user": {
      "displayName": "Nahin Intesher",
      "userId": "07312197565778579316"
     },
     "user_tz": -360
    },
    "id": "TLh82Yy3jNTy",
    "outputId": "7c3852c4-4ab8-4a12-c8f1-502bbc62e3f6"
   },
   "outputs": [
    {
     "name": "stdout",
     "output_type": "stream",
     "text": [
      "Dictionary: {'name': 'Alice', 'age': 25, 'city': 'New York'}\n"
     ]
    }
   ],
   "source": [
    "# Problem 4\n",
    "# define a python function that takers 2 parameters: a list of keys and a list of values:\n",
    "# with the list of keys and values, make a dictionary, then return the dictionary\n",
    "# if any of the two parameters is not a list, print \"ERROR\"\n",
    "\n",
    "# Solution:\n",
    "# ---------------------------------\n",
    "def make_dictionary(keys, values):\n",
    "    if not isinstance(keys, list) or not isinstance(values, list):\n",
    "        print(\"ERROR\")\n",
    "        return None\n",
    "    return dict(zip(keys, values))\n",
    "\n",
    "# Example usage:\n",
    "keys = ['name', 'age', 'city']\n",
    "values = ['Alice', 25, 'New York']\n",
    "result = make_dictionary(keys, values)\n",
    "if result is not None:\n",
    "    print(\"Dictionary:\", result)\n"
   ]
  },
  {
   "cell_type": "code",
   "execution_count": 8,
   "metadata": {
    "colab": {
     "base_uri": "https://localhost:8080/"
    },
    "executionInfo": {
     "elapsed": 336,
     "status": "ok",
     "timestamp": 1732239938829,
     "user": {
      "displayName": "Nahin Intesher",
      "userId": "07312197565778579316"
     },
     "user_tz": -360
    },
    "id": "YNb47cYFk6nZ",
    "outputId": "a56913e4-e94e-4ebf-9205-88c67177f63b"
   },
   "outputs": [
    {
     "name": "stdout",
     "output_type": "stream",
     "text": [
      "Account Number: 12345678, Balance: 500\n",
      "Deposited: 200\n",
      "Account Number: 12345678, Balance: 700\n",
      "Withdrew: 150\n",
      "Account Number: 12345678, Balance: 550\n",
      "Insufficient funds.\n"
     ]
    }
   ],
   "source": [
    "# Problem 5\n",
    "# Write a python class \"Bank Account\" with attributes for balance and account_number.\n",
    "# write a method to Deposit money\n",
    "# write a method to withdraw money (if there are sufficient funds).\n",
    "# write a method to display the balance.\n",
    "# test your class by creating an object\n",
    "\n",
    "# Solution:\n",
    "# ---------------------------------\n",
    "class BankAccount:\n",
    "    def __init__(self, account_number, balance=0):\n",
    "        self.account_number = account_number\n",
    "        self.balance = balance\n",
    "\n",
    "    def deposit(self, amount):\n",
    "        if amount > 0:\n",
    "            self.balance += amount\n",
    "            print(f\"Deposited: {amount}\")\n",
    "        else:\n",
    "            print(\"Deposit amount must be positive.\")\n",
    "\n",
    "    def withdraw(self, amount):\n",
    "        if amount > 0:\n",
    "            if amount <= self.balance:\n",
    "                self.balance -= amount\n",
    "                print(f\"Withdrew: {amount}\")\n",
    "            else:\n",
    "                print(\"Insufficient funds.\")\n",
    "        else:\n",
    "            print(\"Withdrawal amount must be positive.\")\n",
    "\n",
    "    def display_balance(self):\n",
    "        print(f\"Account Number: {self.account_number}, Balance: {self.balance}\")\n",
    "\n",
    "\n",
    "# Testing my class\n",
    "account = BankAccount(account_number=\"12345678\", balance=500)\n",
    "\n",
    "account.display_balance()\n",
    "account.deposit(200)\n",
    "account.display_balance()\n",
    "account.withdraw(150)\n",
    "account.display_balance()\n",
    "account.withdraw(700)\n"
   ]
  },
  {
   "cell_type": "code",
   "execution_count": 12,
   "metadata": {
    "colab": {
     "base_uri": "https://localhost:8080/"
    },
    "executionInfo": {
     "elapsed": 10189,
     "status": "ok",
     "timestamp": 1732240128159,
     "user": {
      "displayName": "Nahin Intesher",
      "userId": "07312197565778579316"
     },
     "user_tz": -360
    },
    "id": "n712ZGsCmbUp",
    "outputId": "6a52d2ec-59de-4d91-cfce-f6f318e9bb3a"
   },
   "outputs": [
    {
     "name": "stdout",
     "output_type": "stream",
     "text": [
      "Enter the number of rows (r): 2\n",
      "Enter the number of columns (c): 2\n",
      "Enter 4 elements for the 2D array:\n",
      "1 2\n",
      "3 4\n",
      "Reshaped array: [[1 2 3 4]]\n"
     ]
    }
   ],
   "source": [
    "# Problem 6\n",
    "# input 2 numbers, r (for number of rows) and c (for number of columns)\n",
    "# now for a 2D numpy array of shape (r, c), take the input for each element\n",
    "# now reshape the array to the shape (1, rc) and print the array\n",
    "\n",
    "# Solution:\n",
    "# ---------------------------------\n",
    "import numpy as np4\n",
    "\n",
    "r = int(input(\"Enter the number of rows (r): \"))\n",
    "c = int(input(\"Enter the number of columns (c): \"))\n",
    "\n",
    "elements = []\n",
    "print(f\"Enter {r * c} elements for the 2D array:\")\n",
    "\n",
    "for _ in range(r):\n",
    "    row = list(map(int, input().split()))\n",
    "    elements.extend(row)\n",
    "\n",
    "if len(elements) != r * c:\n",
    "    print(\"ERROR: The number of elements entered does not match the specified dimensions.\")\n",
    "else:\n",
    "    array = np.array(elements).reshape(r, c)\n",
    "    reshaped_array = array.reshape(1, r * c)\n",
    "    print(\"Reshaped array:\", reshaped_array)\n"
   ]
  },
  {
   "cell_type": "code",
   "execution_count": 13,
   "metadata": {
    "colab": {
     "base_uri": "https://localhost:8080/",
     "height": 564
    },
    "executionInfo": {
     "elapsed": 821,
     "status": "ok",
     "timestamp": 1732240302450,
     "user": {
      "displayName": "Nahin Intesher",
      "userId": "07312197565778579316"
     },
     "user_tz": -360
    },
    "id": "mo_5RQmKn2Hf",
    "outputId": "86b55a6d-d15d-41d0-bec2-4ffe495d3f44"
   },
   "outputs": [
    {
     "data": {
      "image/png": "[encoded data removed]",
      "text/plain": [
       "<Figure size 800x600 with 1 Axes>"
      ]
     },
     "metadata": {},
     "output_type": "display_data"
    }
   ],
   "source": [
    "# Problem 7\n",
    "# Plot a piecewise function  where y=x^2 for 0≤𝑥<4, y=16 for 4≤𝑥<8, and 𝑦=(12−𝑥)^2, for 8≤x≤12. Use Python's matplotlib library to create this plot.\"\n",
    "\n",
    "# Solution:\n",
    "# ---------------------------------\n",
    "import numpy as np\n",
    "import matplotlib.pyplot as plt\n",
    "\n",
    "# Defining the x ranges for each piece\n",
    "x1 = np.linspace(0, 4, 100)\n",
    "y1 = x1 ** 2\n",
    "\n",
    "x2 = np.linspace(4, 8, 100)\n",
    "y2 = np.full_like(x2, 16)\n",
    "\n",
    "x3 = np.linspace(8, 12, 100)\n",
    "y3 = (12 - x3) ** 2\n",
    "\n",
    "# Combining all x and y for plotting\n",
    "x = np.concatenate([x1, x2, x3])\n",
    "y = np.concatenate([y1, y2, y3])\n",
    "\n",
    "# Ploting the piecewise function\n",
    "plt.figure(figsize=(8, 6))\n",
    "plt.plot(x, y, label='Piecewise Function', color='blue')\n",
    "plt.title('Piecewise Function')\n",
    "plt.xlabel('x')\n",
    "plt.ylabel('y')\n",
    "plt.grid(True)\n",
    "plt.legend()\n",
    "plt.show()\n"
   ]
  }
 ],
 "metadata": {
  "colab": {
   "provenance": [
    {
     "file_id": "1OHUYvX8UdYqns86RTFtCeJH5yMI55js4",
     "timestamp": 1732239136039
    }
   ]
  },
  "kernelspec": {
   "display_name": "Python 3",
   "name": "python3"
  },
  "language_info": {
   "codemirror_mode": {
    "name": "ipython",
    "version": 3
   },
   "file_extension": ".py",
   "mimetype": "text/x-python",
   "name": "python",
   "nbconvert_exporter": "python",
   "pygments_lexer": "ipython3",
   "version": "3.13.0"
  }
 },
 "nbformat": 4,
 "nbformat_minor": 0
}
